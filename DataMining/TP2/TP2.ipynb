{
 "cells": [
  {
   "cell_type": "code",
   "execution_count": 53,
   "metadata": {},
   "outputs": [],
   "source": [
    "import numpy as np\n",
    "import pandas as pd\n",
    "from mca2 import *\n",
    "import matplotlib.pyplot as plt\n",
    "\n",
    "from sklearn import datasets, tree, ensemble, neighbors\n",
    "from sklearn.metrics import confusion_matrix\n",
    "from sklearn.model_selection import train_test_split, GridSearchCV"
   ]
  },
  {
   "cell_type": "markdown",
   "metadata": {},
   "source": [
    "# 1\n",
    "Le jeu de donn´ees german.data d´ecrit des prˆets accord´es par une banque allemande. A l’aide\n",
    "de la librairie pandas, chargez-le dans un dataframe df. Faites les v´erifications d’usage `a\n",
    "l’aides des fonctions df.dtypes, df.shape, df.count(), df.describe()."
   ]
  },
  {
   "cell_type": "code",
   "execution_count": 4,
   "metadata": {},
   "outputs": [
    {
     "data": {
      "text/html": [
       "<div>\n",
       "<style scoped>\n",
       "    .dataframe tbody tr th:only-of-type {\n",
       "        vertical-align: middle;\n",
       "    }\n",
       "\n",
       "    .dataframe tbody tr th {\n",
       "        vertical-align: top;\n",
       "    }\n",
       "\n",
       "    .dataframe thead th {\n",
       "        text-align: right;\n",
       "    }\n",
       "</style>\n",
       "<table border=\"1\" class=\"dataframe\">\n",
       "  <thead>\n",
       "    <tr style=\"text-align: right;\">\n",
       "      <th></th>\n",
       "      <th>checking_status</th>\n",
       "      <th>duration</th>\n",
       "      <th>credit_history</th>\n",
       "      <th>purpose</th>\n",
       "      <th>credit_amount</th>\n",
       "      <th>savings_status</th>\n",
       "      <th>employment</th>\n",
       "      <th>installment_commitment</th>\n",
       "      <th>personal_status</th>\n",
       "      <th>other_parties</th>\n",
       "      <th>...</th>\n",
       "      <th>property_magnitude</th>\n",
       "      <th>age</th>\n",
       "      <th>other_payment_plans</th>\n",
       "      <th>housing</th>\n",
       "      <th>existing_credits</th>\n",
       "      <th>job</th>\n",
       "      <th>num_dependents</th>\n",
       "      <th>own_telephone</th>\n",
       "      <th>foreign_worker</th>\n",
       "      <th>class</th>\n",
       "    </tr>\n",
       "  </thead>\n",
       "  <tbody>\n",
       "    <tr>\n",
       "      <td>0</td>\n",
       "      <td>'&lt;0'</td>\n",
       "      <td>6.0</td>\n",
       "      <td>'critical/other existing</td>\n",
       "      <td>radio/tv</td>\n",
       "      <td>1169.0</td>\n",
       "      <td>'no known savings'</td>\n",
       "      <td>'&gt;=7'</td>\n",
       "      <td>4.0</td>\n",
       "      <td>'male single'</td>\n",
       "      <td>none</td>\n",
       "      <td>...</td>\n",
       "      <td>'real estate'</td>\n",
       "      <td>67.0</td>\n",
       "      <td>none</td>\n",
       "      <td>own</td>\n",
       "      <td>2.0</td>\n",
       "      <td>skilled</td>\n",
       "      <td>1.0</td>\n",
       "      <td>yes</td>\n",
       "      <td>yes</td>\n",
       "      <td>0</td>\n",
       "    </tr>\n",
       "    <tr>\n",
       "      <td>1</td>\n",
       "      <td>'0&lt;=X&lt;200'</td>\n",
       "      <td>48.0</td>\n",
       "      <td>'existing paid'</td>\n",
       "      <td>radio/tv</td>\n",
       "      <td>5951.0</td>\n",
       "      <td>'&lt;100'</td>\n",
       "      <td>'1&lt;=X&lt;4'</td>\n",
       "      <td>2.0</td>\n",
       "      <td>'female div/dep/mar'</td>\n",
       "      <td>none</td>\n",
       "      <td>...</td>\n",
       "      <td>'real estate'</td>\n",
       "      <td>22.0</td>\n",
       "      <td>none</td>\n",
       "      <td>own</td>\n",
       "      <td>1.0</td>\n",
       "      <td>skilled</td>\n",
       "      <td>1.0</td>\n",
       "      <td>none</td>\n",
       "      <td>yes</td>\n",
       "      <td>1</td>\n",
       "    </tr>\n",
       "    <tr>\n",
       "      <td>2</td>\n",
       "      <td>'no checking'</td>\n",
       "      <td>12.0</td>\n",
       "      <td>'critical/other existing</td>\n",
       "      <td>education</td>\n",
       "      <td>2096.0</td>\n",
       "      <td>'&lt;100'</td>\n",
       "      <td>'4&lt;=X&lt;7'</td>\n",
       "      <td>2.0</td>\n",
       "      <td>'male single'</td>\n",
       "      <td>none</td>\n",
       "      <td>...</td>\n",
       "      <td>'real estate'</td>\n",
       "      <td>49.0</td>\n",
       "      <td>none</td>\n",
       "      <td>own</td>\n",
       "      <td>1.0</td>\n",
       "      <td>'unskilled resident'</td>\n",
       "      <td>2.0</td>\n",
       "      <td>none</td>\n",
       "      <td>yes</td>\n",
       "      <td>0</td>\n",
       "    </tr>\n",
       "    <tr>\n",
       "      <td>3</td>\n",
       "      <td>'&lt;0'</td>\n",
       "      <td>42.0</td>\n",
       "      <td>'existing paid'</td>\n",
       "      <td>furniture/equipment</td>\n",
       "      <td>7882.0</td>\n",
       "      <td>'&lt;100'</td>\n",
       "      <td>'4&lt;=X&lt;7'</td>\n",
       "      <td>2.0</td>\n",
       "      <td>'male single'</td>\n",
       "      <td>guarantor</td>\n",
       "      <td>...</td>\n",
       "      <td>'life insurance'</td>\n",
       "      <td>45.0</td>\n",
       "      <td>none</td>\n",
       "      <td>'for free'</td>\n",
       "      <td>1.0</td>\n",
       "      <td>skilled</td>\n",
       "      <td>2.0</td>\n",
       "      <td>none</td>\n",
       "      <td>yes</td>\n",
       "      <td>0</td>\n",
       "    </tr>\n",
       "    <tr>\n",
       "      <td>4</td>\n",
       "      <td>'&lt;0'</td>\n",
       "      <td>24.0</td>\n",
       "      <td>'delayed previously'</td>\n",
       "      <td>'new car'</td>\n",
       "      <td>4870.0</td>\n",
       "      <td>'&lt;100'</td>\n",
       "      <td>'1&lt;=X&lt;4'</td>\n",
       "      <td>3.0</td>\n",
       "      <td>'male single'</td>\n",
       "      <td>none</td>\n",
       "      <td>...</td>\n",
       "      <td>'no known property'</td>\n",
       "      <td>53.0</td>\n",
       "      <td>none</td>\n",
       "      <td>'for free'</td>\n",
       "      <td>2.0</td>\n",
       "      <td>skilled</td>\n",
       "      <td>2.0</td>\n",
       "      <td>none</td>\n",
       "      <td>yes</td>\n",
       "      <td>1</td>\n",
       "    </tr>\n",
       "  </tbody>\n",
       "</table>\n",
       "<p>5 rows × 21 columns</p>\n",
       "</div>"
      ],
      "text/plain": [
       "  checking_status  duration             credit_history              purpose  \\\n",
       "0            '<0'       6.0  'critical/other existing              radio/tv   \n",
       "1      '0<=X<200'      48.0            'existing paid'             radio/tv   \n",
       "2   'no checking'      12.0  'critical/other existing             education   \n",
       "3            '<0'      42.0            'existing paid'  furniture/equipment   \n",
       "4            '<0'      24.0       'delayed previously'            'new car'   \n",
       "\n",
       "   credit_amount      savings_status employment  installment_commitment  \\\n",
       "0         1169.0  'no known savings'      '>=7'                     4.0   \n",
       "1         5951.0              '<100'   '1<=X<4'                     2.0   \n",
       "2         2096.0              '<100'   '4<=X<7'                     2.0   \n",
       "3         7882.0              '<100'   '4<=X<7'                     2.0   \n",
       "4         4870.0              '<100'   '1<=X<4'                     3.0   \n",
       "\n",
       "        personal_status other_parties  ...   property_magnitude   age  \\\n",
       "0         'male single'          none  ...        'real estate'  67.0   \n",
       "1  'female div/dep/mar'          none  ...        'real estate'  22.0   \n",
       "2         'male single'          none  ...        'real estate'  49.0   \n",
       "3         'male single'     guarantor  ...     'life insurance'  45.0   \n",
       "4         'male single'          none  ...  'no known property'  53.0   \n",
       "\n",
       "   other_payment_plans     housing existing_credits                   job  \\\n",
       "0                 none         own              2.0               skilled   \n",
       "1                 none         own              1.0               skilled   \n",
       "2                 none         own              1.0  'unskilled resident'   \n",
       "3                 none  'for free'              1.0               skilled   \n",
       "4                 none  'for free'              2.0               skilled   \n",
       "\n",
       "  num_dependents  own_telephone foreign_worker class  \n",
       "0            1.0            yes            yes     0  \n",
       "1            1.0           none            yes     1  \n",
       "2            2.0           none            yes     0  \n",
       "3            2.0           none            yes     0  \n",
       "4            2.0           none            yes     1  \n",
       "\n",
       "[5 rows x 21 columns]"
      ]
     },
     "execution_count": 4,
     "metadata": {},
     "output_type": "execute_result"
    }
   ],
   "source": [
    "df = pd.read_csv(\"german.data\", sep=\"\\t\", header=0)\n",
    "df.head()"
   ]
  },
  {
   "cell_type": "code",
   "execution_count": 5,
   "metadata": {},
   "outputs": [
    {
     "data": {
      "text/plain": [
       "checking_status            object\n",
       "duration                  float64\n",
       "credit_history             object\n",
       "purpose                    object\n",
       "credit_amount             float64\n",
       "savings_status             object\n",
       "employment                 object\n",
       "installment_commitment    float64\n",
       "personal_status            object\n",
       "other_parties              object\n",
       "residence_since           float64\n",
       "property_magnitude         object\n",
       "age                       float64\n",
       "other_payment_plans        object\n",
       "housing                    object\n",
       "existing_credits          float64\n",
       "job                        object\n",
       "num_dependents            float64\n",
       "own_telephone              object\n",
       "foreign_worker             object\n",
       "class                       int64\n",
       "dtype: object"
      ]
     },
     "execution_count": 5,
     "metadata": {},
     "output_type": "execute_result"
    }
   ],
   "source": [
    "df.dtypes"
   ]
  },
  {
   "cell_type": "code",
   "execution_count": 6,
   "metadata": {},
   "outputs": [
    {
     "data": {
      "text/plain": [
       "(1000, 21)"
      ]
     },
     "execution_count": 6,
     "metadata": {},
     "output_type": "execute_result"
    }
   ],
   "source": [
    "df.shape"
   ]
  },
  {
   "cell_type": "code",
   "execution_count": 7,
   "metadata": {},
   "outputs": [
    {
     "data": {
      "text/plain": [
       "checking_status           1000\n",
       "duration                  1000\n",
       "credit_history            1000\n",
       "purpose                   1000\n",
       "credit_amount             1000\n",
       "savings_status            1000\n",
       "employment                1000\n",
       "installment_commitment    1000\n",
       "personal_status           1000\n",
       "other_parties             1000\n",
       "residence_since           1000\n",
       "property_magnitude        1000\n",
       "age                       1000\n",
       "other_payment_plans       1000\n",
       "housing                   1000\n",
       "existing_credits          1000\n",
       "job                       1000\n",
       "num_dependents            1000\n",
       "own_telephone             1000\n",
       "foreign_worker            1000\n",
       "class                     1000\n",
       "dtype: int64"
      ]
     },
     "execution_count": 7,
     "metadata": {},
     "output_type": "execute_result"
    }
   ],
   "source": [
    "df.count()"
   ]
  },
  {
   "cell_type": "code",
   "execution_count": 8,
   "metadata": {},
   "outputs": [
    {
     "data": {
      "text/html": [
       "<div>\n",
       "<style scoped>\n",
       "    .dataframe tbody tr th:only-of-type {\n",
       "        vertical-align: middle;\n",
       "    }\n",
       "\n",
       "    .dataframe tbody tr th {\n",
       "        vertical-align: top;\n",
       "    }\n",
       "\n",
       "    .dataframe thead th {\n",
       "        text-align: right;\n",
       "    }\n",
       "</style>\n",
       "<table border=\"1\" class=\"dataframe\">\n",
       "  <thead>\n",
       "    <tr style=\"text-align: right;\">\n",
       "      <th></th>\n",
       "      <th>duration</th>\n",
       "      <th>credit_amount</th>\n",
       "      <th>installment_commitment</th>\n",
       "      <th>residence_since</th>\n",
       "      <th>age</th>\n",
       "      <th>existing_credits</th>\n",
       "      <th>num_dependents</th>\n",
       "      <th>class</th>\n",
       "    </tr>\n",
       "  </thead>\n",
       "  <tbody>\n",
       "    <tr>\n",
       "      <td>count</td>\n",
       "      <td>1000.000000</td>\n",
       "      <td>1000.000000</td>\n",
       "      <td>1000.000000</td>\n",
       "      <td>1000.000000</td>\n",
       "      <td>1000.000000</td>\n",
       "      <td>1000.000000</td>\n",
       "      <td>1000.000000</td>\n",
       "      <td>1000.000000</td>\n",
       "    </tr>\n",
       "    <tr>\n",
       "      <td>mean</td>\n",
       "      <td>20.903000</td>\n",
       "      <td>3271.258000</td>\n",
       "      <td>2.973000</td>\n",
       "      <td>2.845000</td>\n",
       "      <td>35.546000</td>\n",
       "      <td>1.407000</td>\n",
       "      <td>1.155000</td>\n",
       "      <td>0.300000</td>\n",
       "    </tr>\n",
       "    <tr>\n",
       "      <td>std</td>\n",
       "      <td>12.058814</td>\n",
       "      <td>2822.736876</td>\n",
       "      <td>1.118715</td>\n",
       "      <td>1.103718</td>\n",
       "      <td>11.375469</td>\n",
       "      <td>0.577654</td>\n",
       "      <td>0.362086</td>\n",
       "      <td>0.458487</td>\n",
       "    </tr>\n",
       "    <tr>\n",
       "      <td>min</td>\n",
       "      <td>4.000000</td>\n",
       "      <td>250.000000</td>\n",
       "      <td>1.000000</td>\n",
       "      <td>1.000000</td>\n",
       "      <td>19.000000</td>\n",
       "      <td>1.000000</td>\n",
       "      <td>1.000000</td>\n",
       "      <td>0.000000</td>\n",
       "    </tr>\n",
       "    <tr>\n",
       "      <td>25%</td>\n",
       "      <td>12.000000</td>\n",
       "      <td>1365.500000</td>\n",
       "      <td>2.000000</td>\n",
       "      <td>2.000000</td>\n",
       "      <td>27.000000</td>\n",
       "      <td>1.000000</td>\n",
       "      <td>1.000000</td>\n",
       "      <td>0.000000</td>\n",
       "    </tr>\n",
       "    <tr>\n",
       "      <td>50%</td>\n",
       "      <td>18.000000</td>\n",
       "      <td>2319.500000</td>\n",
       "      <td>3.000000</td>\n",
       "      <td>3.000000</td>\n",
       "      <td>33.000000</td>\n",
       "      <td>1.000000</td>\n",
       "      <td>1.000000</td>\n",
       "      <td>0.000000</td>\n",
       "    </tr>\n",
       "    <tr>\n",
       "      <td>75%</td>\n",
       "      <td>24.000000</td>\n",
       "      <td>3972.250000</td>\n",
       "      <td>4.000000</td>\n",
       "      <td>4.000000</td>\n",
       "      <td>42.000000</td>\n",
       "      <td>2.000000</td>\n",
       "      <td>1.000000</td>\n",
       "      <td>1.000000</td>\n",
       "    </tr>\n",
       "    <tr>\n",
       "      <td>max</td>\n",
       "      <td>72.000000</td>\n",
       "      <td>18424.000000</td>\n",
       "      <td>4.000000</td>\n",
       "      <td>4.000000</td>\n",
       "      <td>75.000000</td>\n",
       "      <td>4.000000</td>\n",
       "      <td>2.000000</td>\n",
       "      <td>1.000000</td>\n",
       "    </tr>\n",
       "  </tbody>\n",
       "</table>\n",
       "</div>"
      ],
      "text/plain": [
       "          duration  credit_amount  installment_commitment  residence_since  \\\n",
       "count  1000.000000    1000.000000             1000.000000      1000.000000   \n",
       "mean     20.903000    3271.258000                2.973000         2.845000   \n",
       "std      12.058814    2822.736876                1.118715         1.103718   \n",
       "min       4.000000     250.000000                1.000000         1.000000   \n",
       "25%      12.000000    1365.500000                2.000000         2.000000   \n",
       "50%      18.000000    2319.500000                3.000000         3.000000   \n",
       "75%      24.000000    3972.250000                4.000000         4.000000   \n",
       "max      72.000000   18424.000000                4.000000         4.000000   \n",
       "\n",
       "               age  existing_credits  num_dependents        class  \n",
       "count  1000.000000       1000.000000     1000.000000  1000.000000  \n",
       "mean     35.546000          1.407000        1.155000     0.300000  \n",
       "std      11.375469          0.577654        0.362086     0.458487  \n",
       "min      19.000000          1.000000        1.000000     0.000000  \n",
       "25%      27.000000          1.000000        1.000000     0.000000  \n",
       "50%      33.000000          1.000000        1.000000     0.000000  \n",
       "75%      42.000000          2.000000        1.000000     1.000000  \n",
       "max      75.000000          4.000000        2.000000     1.000000  "
      ]
     },
     "execution_count": 8,
     "metadata": {},
     "output_type": "execute_result"
    }
   ],
   "source": [
    "df.describe()"
   ]
  },
  {
   "cell_type": "markdown",
   "metadata": {},
   "source": [
    "# 2\n",
    "Tracez l’histogramme et la boˆıte `a moustaches de la variable duration. Tracez le diagramme\n",
    "en secteur de la variable purpose"
   ]
  },
  {
   "cell_type": "code",
   "execution_count": 12,
   "metadata": {},
   "outputs": [
    {
     "data": {
      "text/plain": [
       "(array([171., 262., 337.,  57.,  86.,  17.,  54.,   2.,  13.,   1.]),\n",
       " array([ 4. , 10.8, 17.6, 24.4, 31.2, 38. , 44.8, 51.6, 58.4, 65.2, 72. ]),\n",
       " <a list of 10 Patch objects>)"
      ]
     },
     "execution_count": 12,
     "metadata": {},
     "output_type": "execute_result"
    },
    {
     "data": {
      "image/png": "[encoded data removed]",
      "text/plain": [
       "<Figure size 432x288 with 1 Axes>"
      ]
     },
     "metadata": {
      "needs_background": "light"
     },
     "output_type": "display_data"
    }
   ],
   "source": [
    "plt.hist(df[\"duration\"])"
   ]
  },
  {
   "cell_type": "code",
   "execution_count": 13,
   "metadata": {},
   "outputs": [
    {
     "data": {
      "text/plain": [
       "{'whiskers': [<matplotlib.lines.Line2D at 0x14c1cccea08>,\n",
       "  <matplotlib.lines.Line2D at 0x14c1ccceb08>],\n",
       " 'caps': [<matplotlib.lines.Line2D at 0x14c1ccd29c8>,\n",
       "  <matplotlib.lines.Line2D at 0x14c1ccd2ac8>],\n",
       " 'boxes': [<matplotlib.lines.Line2D at 0x14c1ccc8f48>],\n",
       " 'medians': [<matplotlib.lines.Line2D at 0x14c1ccd8948>],\n",
       " 'fliers': [<matplotlib.lines.Line2D at 0x14c1ccd8f88>],\n",
       " 'means': []}"
      ]
     },
     "execution_count": 13,
     "metadata": {},
     "output_type": "execute_result"
    },
    {
     "data": {
      "image/png": "[encoded data removed]",
      "text/plain": [
       "<Figure size 432x288 with 1 Axes>"
      ]
     },
     "metadata": {
      "needs_background": "light"
     },
     "output_type": "display_data"
    }
   ],
   "source": [
    "plt.boxplot(df[\"duration\"])"
   ]
  },
  {
   "cell_type": "markdown",
   "metadata": {},
   "source": [
    "There are a lot of outliers which last longer than the other"
   ]
  },
  {
   "cell_type": "code",
   "execution_count": 18,
   "metadata": {},
   "outputs": [
    {
     "data": {
      "image/png": "[encoded data removed]",
      "text/plain": [
       "<Figure size 432x288 with 1 Axes>"
      ]
     },
     "metadata": {},
     "output_type": "display_data"
    }
   ],
   "source": [
    "temp = pd.DataFrame(df[\"purpose\"].value_counts())\n",
    "plt.pie(temp[\"purpose\"], labels=temp.index, autopct='%1.1f%%', shadow=True, startangle=90)\n",
    "plt.show()"
   ]
  },
  {
   "cell_type": "markdown",
   "metadata": {},
   "source": [
    "# 3\n",
    "Vous allez utiliser scikit-learn pour pr´edire la variable class à l’aide d’algorithmes d’apprentissage. Etant donn´e que scikit-learn supporte peu les variables cat´egoriques, commencez\n",
    "par appliquer une analyse des correspondances multiples (module mca.py) pour transformer\n",
    "vos variables cat´egoriques en variables num´eriques (laissez la classe à part). Il faut d’abord\n",
    "effectuer un codage disjonctif complet à l’aide de pandas.get dummies().\n"
   ]
  },
  {
   "cell_type": "code",
   "execution_count": 19,
   "metadata": {},
   "outputs": [
    {
     "data": {
      "text/plain": [
       "duration                  float64\n",
       "credit_amount             float64\n",
       "installment_commitment    float64\n",
       "residence_since           float64\n",
       "age                       float64\n",
       "                           ...   \n",
       "job_skilled                 uint8\n",
       "own_telephone_none          uint8\n",
       "own_telephone_yes           uint8\n",
       "foreign_worker_no           uint8\n",
       "foreign_worker_yes          uint8\n",
       "Length: 61, dtype: object"
      ]
     },
     "execution_count": 19,
     "metadata": {},
     "output_type": "execute_result"
    }
   ],
   "source": [
    "dfbin=pandas.get_dummies(df.iloc[:,:20])  #pour binariser les variables catégoriques\n",
    "dfbin.head()"
   ]
  },
  {
   "cell_type": "code",
   "execution_count": 21,
   "metadata": {},
   "outputs": [
    {
     "data": {
      "text/plain": [
       "(1000, 61)"
      ]
     },
     "execution_count": 21,
     "metadata": {},
     "output_type": "execute_result"
    }
   ],
   "source": [
    "dfbin.shape"
   ]
  },
  {
   "cell_type": "code",
   "execution_count": 23,
   "metadata": {},
   "outputs": [
    {
     "data": {
      "text/plain": [
       "duration                  float64\n",
       "credit_amount             float64\n",
       "installment_commitment    float64\n",
       "residence_since           float64\n",
       "age                       float64\n",
       "                           ...   \n",
       "job_skilled                 uint8\n",
       "own_telephone_none          uint8\n",
       "own_telephone_yes           uint8\n",
       "foreign_worker_no           uint8\n",
       "foreign_worker_yes          uint8\n",
       "Length: 61, dtype: object"
      ]
     },
     "execution_count": 23,
     "metadata": {},
     "output_type": "execute_result"
    }
   ],
   "source": [
    "dfbin.dtypes"
   ]
  },
  {
   "cell_type": "code",
   "execution_count": 26,
   "metadata": {},
   "outputs": [
    {
     "data": {
      "text/html": [
       "<div>\n",
       "<style scoped>\n",
       "    .dataframe tbody tr th:only-of-type {\n",
       "        vertical-align: middle;\n",
       "    }\n",
       "\n",
       "    .dataframe tbody tr th {\n",
       "        vertical-align: top;\n",
       "    }\n",
       "\n",
       "    .dataframe thead th {\n",
       "        text-align: right;\n",
       "    }\n",
       "</style>\n",
       "<table border=\"1\" class=\"dataframe\">\n",
       "  <thead>\n",
       "    <tr style=\"text-align: right;\">\n",
       "      <th></th>\n",
       "      <th>0</th>\n",
       "      <th>1</th>\n",
       "      <th>2</th>\n",
       "      <th>3</th>\n",
       "      <th>4</th>\n",
       "      <th>5</th>\n",
       "      <th>6</th>\n",
       "      <th>7</th>\n",
       "      <th>8</th>\n",
       "      <th>9</th>\n",
       "      <th>...</th>\n",
       "      <th>35</th>\n",
       "      <th>36</th>\n",
       "      <th>37</th>\n",
       "      <th>38</th>\n",
       "      <th>39</th>\n",
       "      <th>40</th>\n",
       "      <th>41</th>\n",
       "      <th>42</th>\n",
       "      <th>43</th>\n",
       "      <th>44</th>\n",
       "    </tr>\n",
       "  </thead>\n",
       "  <tbody>\n",
       "    <tr>\n",
       "      <td>0</td>\n",
       "      <td>0.412182</td>\n",
       "      <td>-0.179600</td>\n",
       "      <td>0.044502</td>\n",
       "      <td>0.008799</td>\n",
       "      <td>0.046798</td>\n",
       "      <td>0.059165</td>\n",
       "      <td>0.009079</td>\n",
       "      <td>0.014045</td>\n",
       "      <td>-0.017475</td>\n",
       "      <td>-0.008918</td>\n",
       "      <td>...</td>\n",
       "      <td>-0.023247</td>\n",
       "      <td>0.033038</td>\n",
       "      <td>-0.062282</td>\n",
       "      <td>-0.007930</td>\n",
       "      <td>0.005053</td>\n",
       "      <td>0.028929</td>\n",
       "      <td>-0.011371</td>\n",
       "      <td>0.005234</td>\n",
       "      <td>-0.001262</td>\n",
       "      <td>-0.013702</td>\n",
       "    </tr>\n",
       "    <tr>\n",
       "      <td>1</td>\n",
       "      <td>-0.068791</td>\n",
       "      <td>0.041483</td>\n",
       "      <td>-0.002285</td>\n",
       "      <td>-0.006726</td>\n",
       "      <td>0.009848</td>\n",
       "      <td>-0.002305</td>\n",
       "      <td>0.006819</td>\n",
       "      <td>-0.002135</td>\n",
       "      <td>0.005486</td>\n",
       "      <td>0.000988</td>\n",
       "      <td>...</td>\n",
       "      <td>-0.005571</td>\n",
       "      <td>0.009798</td>\n",
       "      <td>0.013132</td>\n",
       "      <td>0.008844</td>\n",
       "      <td>-0.004177</td>\n",
       "      <td>0.001631</td>\n",
       "      <td>0.000945</td>\n",
       "      <td>0.001360</td>\n",
       "      <td>-0.001961</td>\n",
       "      <td>0.004671</td>\n",
       "    </tr>\n",
       "    <tr>\n",
       "      <td>2</td>\n",
       "      <td>0.117415</td>\n",
       "      <td>-0.062705</td>\n",
       "      <td>-0.012500</td>\n",
       "      <td>-0.001067</td>\n",
       "      <td>0.004000</td>\n",
       "      <td>-0.001361</td>\n",
       "      <td>-0.035004</td>\n",
       "      <td>0.005187</td>\n",
       "      <td>-0.004329</td>\n",
       "      <td>0.005599</td>\n",
       "      <td>...</td>\n",
       "      <td>-0.008045</td>\n",
       "      <td>0.024300</td>\n",
       "      <td>-0.006388</td>\n",
       "      <td>0.017029</td>\n",
       "      <td>-0.004018</td>\n",
       "      <td>-0.009795</td>\n",
       "      <td>-0.001051</td>\n",
       "      <td>0.006588</td>\n",
       "      <td>-0.008438</td>\n",
       "      <td>0.012981</td>\n",
       "    </tr>\n",
       "    <tr>\n",
       "      <td>3</td>\n",
       "      <td>-0.067497</td>\n",
       "      <td>0.002173</td>\n",
       "      <td>-0.002687</td>\n",
       "      <td>0.001747</td>\n",
       "      <td>0.002301</td>\n",
       "      <td>-0.002798</td>\n",
       "      <td>-0.000193</td>\n",
       "      <td>0.013417</td>\n",
       "      <td>-0.014957</td>\n",
       "      <td>-0.010544</td>\n",
       "      <td>...</td>\n",
       "      <td>0.003823</td>\n",
       "      <td>-0.003047</td>\n",
       "      <td>-0.002659</td>\n",
       "      <td>0.000122</td>\n",
       "      <td>-0.002337</td>\n",
       "      <td>-0.000284</td>\n",
       "      <td>-0.006870</td>\n",
       "      <td>0.002166</td>\n",
       "      <td>-0.005166</td>\n",
       "      <td>0.000148</td>\n",
       "    </tr>\n",
       "    <tr>\n",
       "      <td>4</td>\n",
       "      <td>-0.016858</td>\n",
       "      <td>-0.023050</td>\n",
       "      <td>0.011565</td>\n",
       "      <td>-0.001878</td>\n",
       "      <td>-0.001444</td>\n",
       "      <td>-0.011379</td>\n",
       "      <td>0.006029</td>\n",
       "      <td>0.014304</td>\n",
       "      <td>-0.009774</td>\n",
       "      <td>-0.005971</td>\n",
       "      <td>...</td>\n",
       "      <td>0.007215</td>\n",
       "      <td>-0.004247</td>\n",
       "      <td>-0.009649</td>\n",
       "      <td>-0.003668</td>\n",
       "      <td>-0.005461</td>\n",
       "      <td>0.003937</td>\n",
       "      <td>-0.004700</td>\n",
       "      <td>-0.000452</td>\n",
       "      <td>-0.004332</td>\n",
       "      <td>-0.000118</td>\n",
       "    </tr>\n",
       "  </tbody>\n",
       "</table>\n",
       "<p>5 rows × 45 columns</p>\n",
       "</div>"
      ],
      "text/plain": [
       "         0         1         2         3         4         5         6   \\\n",
       "0  0.412182 -0.179600  0.044502  0.008799  0.046798  0.059165  0.009079   \n",
       "1 -0.068791  0.041483 -0.002285 -0.006726  0.009848 -0.002305  0.006819   \n",
       "2  0.117415 -0.062705 -0.012500 -0.001067  0.004000 -0.001361 -0.035004   \n",
       "3 -0.067497  0.002173 -0.002687  0.001747  0.002301 -0.002798 -0.000193   \n",
       "4 -0.016858 -0.023050  0.011565 -0.001878 -0.001444 -0.011379  0.006029   \n",
       "\n",
       "         7         8         9   ...        35        36        37        38  \\\n",
       "0  0.014045 -0.017475 -0.008918  ... -0.023247  0.033038 -0.062282 -0.007930   \n",
       "1 -0.002135  0.005486  0.000988  ... -0.005571  0.009798  0.013132  0.008844   \n",
       "2  0.005187 -0.004329  0.005599  ... -0.008045  0.024300 -0.006388  0.017029   \n",
       "3  0.013417 -0.014957 -0.010544  ...  0.003823 -0.003047 -0.002659  0.000122   \n",
       "4  0.014304 -0.009774 -0.005971  ...  0.007215 -0.004247 -0.009649 -0.003668   \n",
       "\n",
       "         39        40        41        42        43        44  \n",
       "0  0.005053  0.028929 -0.011371  0.005234 -0.001262 -0.013702  \n",
       "1 -0.004177  0.001631  0.000945  0.001360 -0.001961  0.004671  \n",
       "2 -0.004018 -0.009795 -0.001051  0.006588 -0.008438  0.012981  \n",
       "3 -0.002337 -0.000284 -0.006870  0.002166 -0.005166  0.000148  \n",
       "4 -0.005461  0.003937 -0.004700 -0.000452 -0.004332 -0.000118  \n",
       "\n",
       "[5 rows x 45 columns]"
      ]
     },
     "execution_count": 26,
     "metadata": {},
     "output_type": "execute_result"
    }
   ],
   "source": [
    "acm=mca(dfbin,benzecri=False)\n",
    "dfACM=pd.DataFrame(acm.fs_r(N=dfbin.shape[1]))\n",
    "dfACM.head()"
   ]
  },
  {
   "cell_type": "code",
   "execution_count": 27,
   "metadata": {},
   "outputs": [
    {
     "data": {
      "text/plain": [
       "(1000, 45)"
      ]
     },
     "execution_count": 27,
     "metadata": {},
     "output_type": "execute_result"
    }
   ],
   "source": [
    "dfACM.shape"
   ]
  },
  {
   "cell_type": "markdown",
   "metadata": {},
   "source": [
    "# 4 - 5\n",
    "Construisez des modèles pour pr´edire la variable class à l’aide de diff´erents algorithmes d’apprentissage : arbre de d´ecision, k plus proches voisins, r´egression logistique, forets aléatoires,\n",
    "SVM...\n",
    "\n",
    "Evaluez vos algorithmes à l’aide d’une validation simple puis d’une validation crois´ee (utilisez\n",
    "comme mesure l’accuracy, cad le taux de r´eussite)."
   ]
  },
  {
   "cell_type": "code",
   "execution_count": 39,
   "metadata": {},
   "outputs": [],
   "source": [
    "def resultSimple(model, X_test, Y_test):\n",
    "    Y_pred = model.predict(X_test)\n",
    "    res = confusion_matrix(Y_test, Y_pred)\n",
    "    print(\"0 predicted 0 : {}\".format(res[0][0]))\n",
    "    print(\"0 predicted 1 : {}\".format(res[0][1]))\n",
    "    print(\"1 predicted 0 : {}\".format(res[1][0]))\n",
    "    print(\"1 predicted 1 : {}\".format(res[1][1]))\n",
    "    print(\"0 accuracy : {}\".format(res[0][0] / (res[0][1] + res[0][0])))\n",
    "    print(\"1 accuracy : {}\".format(res[1][1] / (res[1][1] + res[1][0])))\n",
    "    print(\"Global accuracy : {}\".format((res[1][1]+res[0][0]) / \n",
    "                                        (res[1][1] + res[1][0] + res[0][1] + res[0][0])))\n",
    "    return(res)"
   ]
  },
  {
   "cell_type": "code",
   "execution_count": 38,
   "metadata": {},
   "outputs": [],
   "source": [
    "def resultGrid(gs, X_test, Y_test):\n",
    "    Y_pred = gs.best_estimator_.predict(X_test)\n",
    "    res = confusion_matrix(Y_test, Y_pred)\n",
    "    print(\"0 predicted 0 : {}\".format(res[0][0]))\n",
    "    print(\"0 predicted 1 : {}\".format(res[0][1]))\n",
    "    print(\"1 predicted 0 : {}\".format(res[1][0]))\n",
    "    print(\"1 predicted 1 : {}\".format(res[1][1]))\n",
    "    print(\"0 accuracy : {}\".format(res[0][0] / (res[0][1] + res[0][0])))\n",
    "    print(\"1 accuracy : {}\".format(res[1][1] / (res[1][1] + res[1][0])))\n",
    "    print(\"Global accuracy : {}\".format((res[1][1]+res[0][0]) / \n",
    "                                        (res[1][1] + res[1][0] + res[0][1] + res[0][0])))\n",
    "    return(res)"
   ]
  },
  {
   "cell_type": "code",
   "execution_count": 33,
   "metadata": {},
   "outputs": [
    {
     "name": "stdout",
     "output_type": "stream",
     "text": [
      "Training set count X:800/Y:800, Test set count X:200/Y:200\n"
     ]
    }
   ],
   "source": [
    "Y = pd.DataFrame(df[\"class\"])\n",
    "X = dfACM\n",
    "# split our dataset\n",
    "X_train, X_test, Y_train, Y_test = train_test_split(X, Y, test_size=0.2)\n",
    "print(\"Training set count X:{}/Y:{}, Test set count X:{}/Y:{}\".format(\n",
    "    int(X_train.shape[0]), int(Y_train.shape[0]), int(X_test.shape[0]), int(Y_test.shape[0])))"
   ]
  },
  {
   "cell_type": "markdown",
   "metadata": {},
   "source": [
    "### Decision Tree\n"
   ]
  },
  {
   "cell_type": "code",
   "execution_count": 40,
   "metadata": {},
   "outputs": [
    {
     "data": {
      "text/plain": [
       "DecisionTreeClassifier(class_weight=None, criterion='gini', max_depth=None,\n",
       "                       max_features=None, max_leaf_nodes=None,\n",
       "                       min_impurity_decrease=0.0, min_impurity_split=None,\n",
       "                       min_samples_leaf=1, min_samples_split=2,\n",
       "                       min_weight_fraction_leaf=0.0, presort=False,\n",
       "                       random_state=None, splitter='best')"
      ]
     },
     "execution_count": 40,
     "metadata": {},
     "output_type": "execute_result"
    }
   ],
   "source": [
    "dt_class = tree.DecisionTreeClassifier()\n",
    "dt_class.fit(X_train, Y_train)"
   ]
  },
  {
   "cell_type": "code",
   "execution_count": 42,
   "metadata": {},
   "outputs": [
    {
     "name": "stdout",
     "output_type": "stream",
     "text": [
      "0 predicted 0 : 101\n",
      "0 predicted 1 : 37\n",
      "1 predicted 0 : 33\n",
      "1 predicted 1 : 29\n",
      "0 accuracy : 0.7318840579710145\n",
      "1 accuracy : 0.46774193548387094\n",
      "Global accuracy : 0.65\n"
     ]
    }
   ],
   "source": [
    "res_dt_simple = resultSimple(dt_class, X_test, Y_test)"
   ]
  },
  {
   "cell_type": "code",
   "execution_count": 34,
   "metadata": {},
   "outputs": [
    {
     "data": {
      "text/plain": [
       "GridSearchCV(cv=3, error_score='raise-deprecating',\n",
       "             estimator=DecisionTreeClassifier(class_weight=None,\n",
       "                                              criterion='gini', max_depth=None,\n",
       "                                              max_features=None,\n",
       "                                              max_leaf_nodes=None,\n",
       "                                              min_impurity_decrease=0.0,\n",
       "                                              min_impurity_split=None,\n",
       "                                              min_samples_leaf=1,\n",
       "                                              min_samples_split=2,\n",
       "                                              min_weight_fraction_leaf=0.0,\n",
       "                                              presort=False, random_state=None,\n",
       "                                              splitter='best'),\n",
       "             iid='warn', n_jobs=None,\n",
       "             param_grid={'criterion': ['gini', 'entropy'],\n",
       "                         'max_depth': range(1, 20),\n",
       "                         'max_features': ['auto', 'log2', 'sqrt']},\n",
       "             pre_dispatch='2*n_jobs', refit=True, return_train_score=False,\n",
       "             scoring=None, verbose=0)"
      ]
     },
     "execution_count": 34,
     "metadata": {},
     "output_type": "execute_result"
    }
   ],
   "source": [
    "dt_class = tree.DecisionTreeClassifier()\n",
    "params = {'criterion':[\"gini\", \"entropy\"], 'max_depth':range(1,20), 'max_features':[\"auto\", \"log2\", \"sqrt\"]}\n",
    "gs = GridSearchCV(dt_class, params, cv=3)\n",
    "gs.fit(X_train, Y_train)"
   ]
  },
  {
   "cell_type": "code",
   "execution_count": 35,
   "metadata": {},
   "outputs": [
    {
     "name": "stdout",
     "output_type": "stream",
     "text": [
      "{'criterion': 'entropy', 'max_depth': 2, 'max_features': 'auto'}\n"
     ]
    }
   ],
   "source": [
    "print(gs.best_params_)"
   ]
  },
  {
   "cell_type": "code",
   "execution_count": 37,
   "metadata": {},
   "outputs": [
    {
     "name": "stdout",
     "output_type": "stream",
     "text": [
      "0 predicted 0 : 138\n",
      "0 predicted 1 : 0\n",
      "1 predicted 0 : 62\n",
      "1 predicted 1 : 0\n",
      "0 accuracy : 1.0\n",
      "1 accuracy : 0.0\n",
      "Global accuracy : 0.69\n"
     ]
    }
   ],
   "source": [
    "res_dt_multiple = resultGrid(gs, X_test, Y_test)"
   ]
  },
  {
   "cell_type": "markdown",
   "metadata": {},
   "source": [
    "### Random forest"
   ]
  },
  {
   "cell_type": "code",
   "execution_count": 50,
   "metadata": {},
   "outputs": [
    {
     "name": "stderr",
     "output_type": "stream",
     "text": [
      "C:\\Users\\CAJug\\AppData\\Local\\Continuum\\anaconda3\\lib\\site-packages\\sklearn\\ensemble\\forest.py:245: FutureWarning: The default value of n_estimators will change from 10 in version 0.20 to 100 in 0.22.\n",
      "  \"10 in version 0.20 to 100 in 0.22.\", FutureWarning)\n"
     ]
    },
    {
     "data": {
      "text/plain": [
       "RandomForestClassifier(bootstrap=True, class_weight=None, criterion='gini',\n",
       "                       max_depth=None, max_features='auto', max_leaf_nodes=None,\n",
       "                       min_impurity_decrease=0.0, min_impurity_split=None,\n",
       "                       min_samples_leaf=1, min_samples_split=2,\n",
       "                       min_weight_fraction_leaf=0.0, n_estimators=10,\n",
       "                       n_jobs=None, oob_score=False, random_state=None,\n",
       "                       verbose=0, warm_start=False)"
      ]
     },
     "execution_count": 50,
     "metadata": {},
     "output_type": "execute_result"
    }
   ],
   "source": [
    "rf_class = ensemble.RandomForestClassifier()\n",
    "rf_class.fit(X_train, list(Y_train[\"class\"]))"
   ]
  },
  {
   "cell_type": "code",
   "execution_count": 51,
   "metadata": {},
   "outputs": [
    {
     "name": "stdout",
     "output_type": "stream",
     "text": [
      "0 predicted 0 : 126\n",
      "0 predicted 1 : 12\n",
      "1 predicted 0 : 50\n",
      "1 predicted 1 : 12\n",
      "0 accuracy : 0.9130434782608695\n",
      "1 accuracy : 0.1935483870967742\n",
      "Global accuracy : 0.69\n"
     ]
    }
   ],
   "source": [
    "res_rf_simple = resultSimple(rf_class, X_test, Y_test)"
   ]
  },
  {
   "cell_type": "code",
   "execution_count": 45,
   "metadata": {},
   "outputs": [
    {
     "data": {
      "text/plain": [
       "GridSearchCV(cv=3, error_score='raise-deprecating',\n",
       "             estimator=RandomForestClassifier(bootstrap=True, class_weight=None,\n",
       "                                              criterion='gini', max_depth=None,\n",
       "                                              max_features='auto',\n",
       "                                              max_leaf_nodes=None,\n",
       "                                              min_impurity_decrease=0.0,\n",
       "                                              min_impurity_split=None,\n",
       "                                              min_samples_leaf=1,\n",
       "                                              min_samples_split=2,\n",
       "                                              min_weight_fraction_leaf=0.0,\n",
       "                                              n_estimators='warn', n_jobs=None,\n",
       "                                              oob_score=False,\n",
       "                                              random_state=None, verbose=0,\n",
       "                                              warm_start=False),\n",
       "             iid='warn', n_jobs=None,\n",
       "             param_grid={'criterion': ['gini', 'entropy'],\n",
       "                         'max_depth': range(2, 10),\n",
       "                         'max_features': ['auto', 'log2', 'sqrt'],\n",
       "                         'n_estimators': range(1, 61, 15)},\n",
       "             pre_dispatch='2*n_jobs', refit=True, return_train_score=False,\n",
       "             scoring=None, verbose=0)"
      ]
     },
     "execution_count": 45,
     "metadata": {},
     "output_type": "execute_result"
    }
   ],
   "source": [
    "rf_class = ensemble.RandomForestClassifier()\n",
    "params = {'criterion':[\"gini\", \"entropy\"], 'max_depth':range(2,10), 'max_features':[\"auto\", \"log2\", \"sqrt\"], \n",
    "          'n_estimators':range(1, 61, 15)}\n",
    "gs = GridSearchCV(rf_class, params, cv=3)\n",
    "gs.fit(X_train, list(Y_train[\"class\"]))"
   ]
  },
  {
   "cell_type": "code",
   "execution_count": 46,
   "metadata": {},
   "outputs": [
    {
     "name": "stdout",
     "output_type": "stream",
     "text": [
      "{'criterion': 'gini', 'max_depth': 9, 'max_features': 'sqrt', 'n_estimators': 31}\n"
     ]
    }
   ],
   "source": [
    "print(gs.best_params_)"
   ]
  },
  {
   "cell_type": "code",
   "execution_count": 47,
   "metadata": {},
   "outputs": [
    {
     "name": "stdout",
     "output_type": "stream",
     "text": [
      "0 predicted 0 : 130\n",
      "0 predicted 1 : 8\n",
      "1 predicted 0 : 50\n",
      "1 predicted 1 : 12\n",
      "0 accuracy : 0.9420289855072463\n",
      "1 accuracy : 0.1935483870967742\n",
      "Global accuracy : 0.71\n"
     ]
    }
   ],
   "source": [
    "res_rf_multiple = result(gs, X_test, Y_test)"
   ]
  },
  {
   "cell_type": "markdown",
   "metadata": {},
   "source": [
    "# KNN"
   ]
  },
  {
   "cell_type": "code",
   "execution_count": 54,
   "metadata": {},
   "outputs": [
    {
     "data": {
      "text/plain": [
       "KNeighborsClassifier(algorithm='auto', leaf_size=30, metric='minkowski',\n",
       "                     metric_params=None, n_jobs=None, n_neighbors=5, p=2,\n",
       "                     weights='uniform')"
      ]
     },
     "execution_count": 54,
     "metadata": {},
     "output_type": "execute_result"
    }
   ],
   "source": [
    "knn_class = neighbors.KNeighborsClassifier()\n",
    "knn_class.fit(X_train, list(Y_train[\"class\"]))"
   ]
  },
  {
   "cell_type": "code",
   "execution_count": 55,
   "metadata": {},
   "outputs": [
    {
     "name": "stdout",
     "output_type": "stream",
     "text": [
      "0 predicted 0 : 116\n",
      "0 predicted 1 : 22\n",
      "1 predicted 0 : 37\n",
      "1 predicted 1 : 25\n",
      "0 accuracy : 0.8405797101449275\n",
      "1 accuracy : 0.4032258064516129\n",
      "Global accuracy : 0.705\n"
     ]
    }
   ],
   "source": [
    "res_knn_simple = resultSimple(knn_class, X_test, Y_test)"
   ]
  },
  {
   "cell_type": "code",
   "execution_count": 57,
   "metadata": {},
   "outputs": [
    {
     "data": {
      "text/plain": [
       "GridSearchCV(cv=3, error_score='raise-deprecating',\n",
       "             estimator=KNeighborsClassifier(algorithm='auto', leaf_size=30,\n",
       "                                            metric='minkowski',\n",
       "                                            metric_params=None, n_jobs=None,\n",
       "                                            n_neighbors=5, p=2,\n",
       "                                            weights='uniform'),\n",
       "             iid='warn', n_jobs=None, param_grid={'n_neighbors': range(2, 15)},\n",
       "             pre_dispatch='2*n_jobs', refit=True, return_train_score=False,\n",
       "             scoring=None, verbose=0)"
      ]
     },
     "execution_count": 57,
     "metadata": {},
     "output_type": "execute_result"
    }
   ],
   "source": [
    "knn_class = neighbors.KNeighborsClassifier()\n",
    "params = {'n_neighbors':range(2,15)}\n",
    "gs = GridSearchCV(knn_class, params, cv=3)\n",
    "gs.fit(X_train, list(Y_train[\"class\"]))"
   ]
  },
  {
   "cell_type": "code",
   "execution_count": 58,
   "metadata": {},
   "outputs": [
    {
     "name": "stdout",
     "output_type": "stream",
     "text": [
      "{'n_neighbors': 13}\n"
     ]
    }
   ],
   "source": [
    "print(gs.best_params_)"
   ]
  },
  {
   "cell_type": "code",
   "execution_count": 60,
   "metadata": {},
   "outputs": [
    {
     "name": "stdout",
     "output_type": "stream",
     "text": [
      "0 predicted 0 : 116\n",
      "0 predicted 1 : 22\n",
      "1 predicted 0 : 48\n",
      "1 predicted 1 : 14\n",
      "0 accuracy : 0.8405797101449275\n",
      "1 accuracy : 0.22580645161290322\n",
      "Global accuracy : 0.65\n"
     ]
    }
   ],
   "source": [
    "res_knn_multiple = result(gs, X_test, Y_test)"
   ]
  },
  {
   "cell_type": "code",
   "execution_count": null,
   "metadata": {},
   "outputs": [],
   "source": []
  }
 ],
 "metadata": {
  "kernelspec": {
   "display_name": "Python 3",
   "language": "python",
   "name": "python3"
  },
  "language_info": {
   "codemirror_mode": {
    "name": "ipython",
    "version": 3
   },
   "file_extension": ".py",
   "mimetype": "text/x-python",
   "name": "python",
   "nbconvert_exporter": "python",
   "pygments_lexer": "ipython3",
   "version": "3.7.4"
  }
 },
 "nbformat": 4,
 "nbformat_minor": 2
}
