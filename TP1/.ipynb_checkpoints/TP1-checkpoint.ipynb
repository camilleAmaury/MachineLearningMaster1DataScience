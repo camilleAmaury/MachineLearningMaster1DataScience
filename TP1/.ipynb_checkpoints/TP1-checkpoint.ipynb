{
 "cells": [
  {
   "cell_type": "markdown",
   "metadata": {},
   "source": [
    "# I - Naive Bayes\n",
    "\n",
    "## 1) With the help of pandas tools, identify the volume and the dimension of the data.\n"
   ]
  },
  {
   "cell_type": "code",
   "execution_count": 1,
   "metadata": {},
   "outputs": [],
   "source": [
    "import pandas as pd"
   ]
  },
  {
   "cell_type": "code",
   "execution_count": 33,
   "metadata": {},
   "outputs": [
    {
     "name": "stdout",
     "output_type": "stream",
     "text": [
      "140320 records of 3 fields\n"
     ]
    },
    {
     "data": {
      "text/html": [
       "<div>\n",
       "<style scoped>\n",
       "    .dataframe tbody tr th:only-of-type {\n",
       "        vertical-align: middle;\n",
       "    }\n",
       "\n",
       "    .dataframe tbody tr th {\n",
       "        vertical-align: top;\n",
       "    }\n",
       "\n",
       "    .dataframe thead th {\n",
       "        text-align: right;\n",
       "    }\n",
       "</style>\n",
       "<table border=\"1\" class=\"dataframe\">\n",
       "  <thead>\n",
       "    <tr style=\"text-align: right;\">\n",
       "      <th></th>\n",
       "      <th>CourseId</th>\n",
       "      <th>Review</th>\n",
       "      <th>Label</th>\n",
       "    </tr>\n",
       "  </thead>\n",
       "  <tbody>\n",
       "    <tr>\n",
       "      <th>0</th>\n",
       "      <td>2-speed-it</td>\n",
       "      <td>BOring</td>\n",
       "      <td>1</td>\n",
       "    </tr>\n",
       "    <tr>\n",
       "      <th>1</th>\n",
       "      <td>2-speed-it</td>\n",
       "      <td>Bravo !</td>\n",
       "      <td>5</td>\n",
       "    </tr>\n",
       "    <tr>\n",
       "      <th>2</th>\n",
       "      <td>2-speed-it</td>\n",
       "      <td>Very goo</td>\n",
       "      <td>5</td>\n",
       "    </tr>\n",
       "    <tr>\n",
       "      <th>3</th>\n",
       "      <td>2-speed-it</td>\n",
       "      <td>Great course - I recommend it for all, especia...</td>\n",
       "      <td>5</td>\n",
       "    </tr>\n",
       "    <tr>\n",
       "      <th>4</th>\n",
       "      <td>2-speed-it</td>\n",
       "      <td>One of the most useful course on IT Management!</td>\n",
       "      <td>5</td>\n",
       "    </tr>\n",
       "  </tbody>\n",
       "</table>\n",
       "</div>"
      ],
      "text/plain": [
       "     CourseId                                             Review  Label\n",
       "0  2-speed-it                                             BOring      1\n",
       "1  2-speed-it                                            Bravo !      5\n",
       "2  2-speed-it                                           Very goo      5\n",
       "3  2-speed-it  Great course - I recommend it for all, especia...      5\n",
       "4  2-speed-it    One of the most useful course on IT Management!      5"
      ]
     },
     "execution_count": 33,
     "metadata": {},
     "output_type": "execute_result"
    }
   ],
   "source": [
    "# import csv file as a dataframe object\n",
    "data = pd.read_csv(\"reviews_by_course.csv\")\n",
    "\n",
    "# first approach\n",
    "nb_samples, nb_fields = data.shape\n",
    "print(f\"{nb_samples} records of {nb_fields} fields\")\n",
    "\n",
    "# print a short amount of data\n",
    "data.head()\n",
    "\n",
    "# describe dataset with basic information (number of rows, mean, std ...)\n",
    "# data.describe()\n",
    "\n",
    "# count rows per column name\n",
    "# data.count()\n",
    "\n",
    "# count rows per column name (even none values)\n",
    "# data.fillna(\"\", inplace=True)\n",
    "# data.count()"
   ]
  },
  {
   "cell_type": "markdown",
   "metadata": {},
   "source": [
    "As we can see, the total dimension of this dataframe is 140320 rows per 3 columns.\n",
    "\n",
    "\n",
    "# 2) Target classes are the ratings, from 1 to 5. Determine the number of instances for each class. What could be the problem during the learning process ?"
   ]
  },
  {
   "cell_type": "code",
   "execution_count": 37,
   "metadata": {},
   "outputs": [
    {
     "name": "stdout",
     "output_type": "stream",
     "text": [
      "first approach : \n",
      "classes 1 has 2867 rows\n",
      "classes 2 has 2554 rows\n",
      "classes 3 has 5923 rows\n",
      "classes 4 has 22460 rows\n",
      "classes 5 has 106516 rows\n",
      "\n",
      "second approach : \n"
     ]
    },
    {
     "data": {
      "text/plain": [
       "Label\n",
       "1      2867\n",
       "2      2554\n",
       "3      5923\n",
       "4     22460\n",
       "5    106516\n",
       "dtype: int64"
      ]
     },
     "execution_count": 37,
     "metadata": {},
     "output_type": "execute_result"
    }
   ],
   "source": [
    "# first and naive approach : --> storing the result in a list of dataframes, filter each class and print the length.\n",
    "print(\"first approach : \")\n",
    "classes = []\n",
    "for i in range(1,6):\n",
    "    filter = data[\"Label\"] == i\n",
    "    classes.append(data[filter])\n",
    "    print(\"classes\",i,\"has\",len(data[filter]), \"rows\")\n",
    "    \n",
    "# second approach with pandas group by\n",
    "print(\"\\nsecond approach : \")\n",
    "# for the whole columns\n",
    "classes2 = data.groupby([\"Label\"]).size()\n",
    "# for each columns\n",
    "# classes2 = data.groupby([\"Label\"]).count()\n",
    "classes2"
   ]
  },
  {
   "cell_type": "markdown",
   "metadata": {},
   "source": [
    "As we can see, the 5th class has a huge amount of data related to it. While, other classes don't even represent 1/2 of the number of rows in the 5th class.\n",
    "\n",
    "It can be a problem since, in order to predict a rating of 5, the model will be really accurate, but for the other classes, the model won't have enought data to correctly deal with them.\n",
    "\n",
    "# 3) Each instance consists in a short paragraph of text, containing the review, and the course tag.\n",
    "\n",
    "and\n",
    "\n",
    "# 4) The volume of the data could be quite (too) large, depending on your computer. Together with your answer of Question 2), and using the functions head(), generate a meaningful subset of the data."
   ]
  },
  {
   "cell_type": "code",
   "execution_count": 38,
   "metadata": {},
   "outputs": [
    {
     "name": "stdout",
     "output_type": "stream",
     "text": [
      "[[0 0 1 0 0 0 0 0 0 0 0 0 0 0 0 0 0 0 0 0 0]\n",
      " [0 0 0 1 0 0 0 0 0 0 0 0 0 0 0 0 0 0 0 0 0]\n",
      " [0 0 0 0 0 0 0 0 1 0 0 0 0 0 0 0 0 0 0 0 1]\n",
      " [1 1 0 0 1 1 1 1 0 1 2 0 1 0 0 0 0 1 0 0 0]\n",
      " [0 0 0 0 0 1 0 0 0 0 1 1 0 1 1 1 1 0 1 1 0]]\n",
      "[[1 1]\n",
      " [1 1]\n",
      " [1 1]\n",
      " [1 1]\n",
      " [1 1]]\n"
     ]
    }
   ],
   "source": [
    "# Transforming sentence as vectors using the Bag of Word method\n",
    "from sklearn.feature_extraction.text import CountVectorizer\n",
    "vectorizer = CountVectorizer()\n",
    "X = vectorizer.fit_transform(data.head()[\"Review\"]).toarray()\n",
    "print(X)\n",
    "Y = vectorizer.fit_transform(data.head()[\"CourseId\"]).toarray()\n",
    "print(Y)"
   ]
  },
  {
   "cell_type": "markdown",
   "metadata": {},
   "source": [
    "Here we only tried with the first five lines.\n",
    "\n",
    "But we could easily consider that, regarding of the number of rows and words in all those sentences, the vocabulary should be a huge number and will probably throw to a run out of memory.\n",
    "\n",
    "Thus, we choose to only take the 200 first rows of each instance in order to reduce the size and moreover, to make the 5th class not over representated."
   ]
  },
  {
   "cell_type": "code",
   "execution_count": 84,
   "metadata": {},
   "outputs": [
    {
     "data": {
      "text/html": [
       "<div>\n",
       "<style scoped>\n",
       "    .dataframe tbody tr th:only-of-type {\n",
       "        vertical-align: middle;\n",
       "    }\n",
       "\n",
       "    .dataframe tbody tr th {\n",
       "        vertical-align: top;\n",
       "    }\n",
       "\n",
       "    .dataframe thead th {\n",
       "        text-align: right;\n",
       "    }\n",
       "</style>\n",
       "<table border=\"1\" class=\"dataframe\">\n",
       "  <thead>\n",
       "    <tr style=\"text-align: right;\">\n",
       "      <th></th>\n",
       "      <th>CountVectorReview</th>\n",
       "      <th>CountVectorCourseId</th>\n",
       "      <th>Label</th>\n",
       "    </tr>\n",
       "  </thead>\n",
       "  <tbody>\n",
       "    <tr>\n",
       "      <th>199</th>\n",
       "      <td>[0, 0, 0, 0, 0, 0, 0, 0, 0, 0, 0, 0, 0, 0, 0, ...</td>\n",
       "      <td>[0, 0, 0, 0, 0, 0, 0, 0, 0, 0, 0, 0, 0, 0, 0, ...</td>\n",
       "      <td>1</td>\n",
       "    </tr>\n",
       "    <tr>\n",
       "      <th>200</th>\n",
       "      <td>[0, 0, 0, 0, 0, 0, 0, 0, 0, 0, 0, 0, 0, 0, 0, ...</td>\n",
       "      <td>[0, 0, 0, 0, 0, 0, 0, 0, 0, 0, 0, 0, 0, 0, 0, ...</td>\n",
       "      <td>2</td>\n",
       "    </tr>\n",
       "  </tbody>\n",
       "</table>\n",
       "</div>"
      ],
      "text/plain": [
       "                                     CountVectorReview  \\\n",
       "199  [0, 0, 0, 0, 0, 0, 0, 0, 0, 0, 0, 0, 0, 0, 0, ...   \n",
       "200  [0, 0, 0, 0, 0, 0, 0, 0, 0, 0, 0, 0, 0, 0, 0, ...   \n",
       "\n",
       "                                   CountVectorCourseId  Label  \n",
       "199  [0, 0, 0, 0, 0, 0, 0, 0, 0, 0, 0, 0, 0, 0, 0, ...      1  \n",
       "200  [0, 0, 0, 0, 0, 0, 0, 0, 0, 0, 0, 0, 0, 0, 0, ...      2  "
      ]
     },
     "execution_count": 84,
     "metadata": {},
     "output_type": "execute_result"
    }
   ],
   "source": [
    "# getting the two column as vector representation\n",
    "review_vectors = vectorizer.fit_transform(pd.concat([i.head(200)[\"Review\"] for i in classes])).toarray()\n",
    "courseid_vectors = vectorizer.fit_transform(pd.concat([i.head(200)[\"CourseId\"] for i in classes])).toarray()\n",
    "Y = list(pd.concat([i.head(200)[\"Label\"] for i in classes]))\n",
    "\n",
    "# creating a new dataframe with all the data in it\n",
    "df = pd.DataFrame()\n",
    "df.insert(value=pd.Series(list(review_vectors), index=range(0,len(review_vectors))), column=\"CountVectorReview\", loc=0)\n",
    "df.insert(value=pd.Series(list(courseid_vectors), index=range(0,len(courseid_vectors))), column=\"CountVectorCourseId\", loc=1)\n",
    "df.insert(value=pd.Series(Y, index=range(0,len(Y))), column=\"Label\", loc=2)\n",
    "df[199:201]"
   ]
  },
  {
   "cell_type": "markdown",
   "metadata": {},
   "source": [
    "# 5) Using a naive Bayes approach, we are going to learn model whose objective is to predict the rating, given the tag and the review. What kind of probabilistic distribution should we use ?"
   ]
  },
  {
   "cell_type": "code",
   "execution_count": null,
   "metadata": {},
   "outputs": [],
   "source": []
  }
 ],
 "metadata": {
  "kernelspec": {
   "display_name": "Python 3",
   "language": "python",
   "name": "python3"
  },
  "language_info": {
   "codemirror_mode": {
    "name": "ipython",
    "version": 3
   },
   "file_extension": ".py",
   "mimetype": "text/x-python",
   "name": "python",
   "nbconvert_exporter": "python",
   "pygments_lexer": "ipython3",
   "version": "3.7.3"
  }
 },
 "nbformat": 4,
 "nbformat_minor": 2
}
